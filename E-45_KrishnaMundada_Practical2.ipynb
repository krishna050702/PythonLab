{
 "cells": [
  {
   "cell_type": "markdown",
   "id": "6849b158",
   "metadata": {},
   "source": [
    "### Name:- Krishna Mundada\n",
    "### Roll no:- 45\n",
    "### Batch:- E3\n",
    "### Branch:- AI-ML\n",
    "### Topic :- Python Lab 2\n"
   ]
  },
  {
   "cell_type": "markdown",
   "id": "500c77ab",
   "metadata": {},
   "source": [
    "#### 1. Write a python program to define a tuple of 10 student’s information as rollnno., name, address and marks of 3 subjects Physics, Chemistry and Mathematics. The list is sorted by roll no. Your program should display list of three toppers in all students\n"
   ]
  },
  {
   "cell_type": "code",
   "execution_count": 3,
   "id": "9d1b0c69",
   "metadata": {},
   "outputs": [
    {
     "name": "stdout",
     "output_type": "stream",
     "text": [
      "Enter no. of students: 10\n",
      "Enter student 1 name: \n",
      "name: Krishna\n",
      "roll: 40\n",
      "address: Washim\n",
      "marks in physics: 99\n",
      "marks in chemistry: 98\n",
      "marks in mathematics: 99\n",
      "Enter student 2 name: \n",
      "name: Esha\n",
      "roll: 8\n",
      "address: Nagpur\n",
      "marks in physics: 97\n",
      "marks in chemistry: 98\n",
      "marks in mathematics: 96\n",
      "Enter student 3 name: \n",
      "name: Vinayak\n",
      "roll: 67\n",
      "address: Nagpur\n",
      "marks in physics: 96\n",
      "marks in chemistry: 95\n",
      "marks in mathematics: 98\n",
      "Enter student 4 name: \n",
      "name: Harsha\n",
      "roll: 9\n",
      "address: Nagpur\n",
      "marks in physics: 95\n",
      "marks in chemistry: 96\n",
      "marks in mathematics: 97\n",
      "Enter student 5 name: \n",
      "name: Madhav\n",
      "roll: 48\n",
      "address: Mumbai\n",
      "marks in physics: 94\n",
      "marks in chemistry: 96\n",
      "marks in mathematics: 93\n",
      "Enter student 6 name: \n",
      "name: Jatin\n",
      "roll: 43\n",
      "address: Nagar\n",
      "marks in physics: 90\n",
      "marks in chemistry: 91\n",
      "marks in mathematics: 92\n",
      "Enter student 7 name: \n",
      "name: Shardul\n",
      "roll: 64\n",
      "address: Nagpur\n",
      "marks in physics: 93\n",
      "marks in chemistry: 93\n",
      "marks in mathematics: 94\n",
      "Enter student 8 name: \n",
      "name: Jiya\n",
      "roll: 13\n",
      "address: 95\n",
      "marks in physics: 95\n",
      "marks in chemistry: 96\n",
      "marks in mathematics: 95\n",
      "Enter student 9 name: \n",
      "name: Shweta\n",
      "roll: 19\n",
      "address: Nagpur\n",
      "marks in physics: 94\n",
      "marks in chemistry: 95\n",
      "marks in mathematics: 93\n",
      "Enter student 10 name: \n",
      "name: Vishal\n",
      "roll: 68\n",
      "address: Nagpur\n",
      "marks in physics: 90\n",
      "marks in chemistry: 90\n",
      "marks in mathematics: 90\n",
      "[('Krishna', '40', 'Washim', 99, 98, 99, 296), ('Esha', '8', 'Nagpur', 97, 98, 96, 291), ('Vinayak', '67', 'Nagpur', 96, 95, 98, 289), ('Harsha', '9', 'Nagpur', 95, 96, 97, 288), ('Madhav', '48', 'Mumbai', 94, 96, 93, 283), ('Jatin', '43', 'Nagar', 90, 91, 92, 273), ('Shardul', '64', 'Nagpur', 93, 93, 94, 280), ('Jiya', '13', '95', 95, 96, 95, 286), ('Shweta', '19', 'Nagpur', 94, 95, 93, 282), ('Vishal', '68', 'Nagpur', 90, 90, 90, 270)]\n"
     ]
    }
   ],
   "source": [
    "n = int(input(\"Enter no. of students: \"))\n",
    "ls = []\n",
    "\n",
    "for i in range(0,n):\n",
    "    print(\"Enter student %s name: \"%(i+1))\n",
    "    name = input(\"name: \")\n",
    "    roll = input(\"roll: \")\n",
    "    add = input(\"address: \")\n",
    "    phy = int(input(\"marks in physics: \"))\n",
    "    chem = int(input(\"marks in chemistry: \"))\n",
    "    math = int(input(\"marks in mathematics: \"))\n",
    "    a =[]\n",
    "    a.append(name)\n",
    "    a.append(roll)\n",
    "    a.append(add)\n",
    "    a.append(phy)\n",
    "    a.append(chem)\n",
    "    a.append(math)\n",
    "    a.append(phy+chem+math)\n",
    "    b = tuple(a)\n",
    "    ls.append(b)\n",
    "print(ls)"
   ]
  },
  {
   "cell_type": "code",
   "execution_count": 4,
   "id": "f9fc7cc9",
   "metadata": {},
   "outputs": [
    {
     "name": "stdout",
     "output_type": "stream",
     "text": [
      "3 class toppers: \n",
      "Krishna\n",
      "Esha\n",
      "Vinayak\n"
     ]
    }
   ],
   "source": [
    "ls.sort(key=lambda student: student[6])\n",
    "ls = ls[::-1]\n",
    "print(\"3 class toppers: \")\n",
    "\n",
    "for i in range(0,3):\n",
    "    print(ls[i][0])"
   ]
  },
  {
   "cell_type": "markdown",
   "id": "586c40b5",
   "metadata": {},
   "source": [
    "#### 2. Python program that displays which letters present in the two strings but not in both.\n"
   ]
  },
  {
   "cell_type": "code",
   "execution_count": 23,
   "id": "932a4afb",
   "metadata": {},
   "outputs": [
    {
     "name": "stdout",
     "output_type": "stream",
     "text": [
      "Enter first string:Krishna\n",
      "Enter second string:Mundada\n",
      "The letters are:\n",
      "K M d r i s u h "
     ]
    }
   ],
   "source": [
    "s1=input(\"Enter first string:\")\n",
    "s2=input(\"Enter second string:\")\n",
    "list = set(s1)^set(s2)\n",
    "print(\"The letters are:\")\n",
    "for i in list:\n",
    "    print(i,end=\" \")"
   ]
  },
  {
   "cell_type": "markdown",
   "id": "5a17b301",
   "metadata": {},
   "source": [
    "#### 3. A List rotation consists of taking the first element and moving it to the end. Write a python that takes a list L and a positive integer k and generate the list L after k rotations. If K is not positive, it should return L unchanged. \n",
    "#### Ip: L=[1,2,3,4,5]\n",
    "#### After 1st rotation: list become [2,3,4,5,1]\n",
    "#### After the 2nd rotation list becomes [3,4,5,1,2]……. So on.\n",
    "#### Print output after each rotation. Take the value of k from the user.\n"
   ]
  },
  {
   "cell_type": "code",
   "execution_count": 4,
   "id": "56030f04",
   "metadata": {},
   "outputs": [
    {
     "name": "stdout",
     "output_type": "stream",
     "text": [
      "Enter a number4\n",
      "[2, 3, 4, 5, 6, 1]\n",
      "[3, 4, 5, 6, 1, 2]\n",
      "[4, 5, 6, 1, 2, 3]\n",
      "[5, 6, 1, 2, 3, 4]\n"
     ]
    }
   ],
   "source": [
    "lis = [1,2,3,4,5,6]\n",
    "k = int(input(\"Enter a number\"))\n",
    "for i in range(1,k+1):\n",
    "  lis1 = lis[i:]\n",
    "  lis2 = lis[:i]\n",
    "  print(lis1+lis2)"
   ]
  },
  {
   "cell_type": "markdown",
   "id": "81f6016f",
   "metadata": {},
   "source": [
    "#### 4. Create a list of tuples, with each tuple having 5 numbers. Perform the addition of 3rd numbers of each tuple. "
   ]
  },
  {
   "cell_type": "code",
   "execution_count": 2,
   "id": "0c0c6953",
   "metadata": {},
   "outputs": [
    {
     "name": "stdout",
     "output_type": "stream",
     "text": [
      "Enter no. of tuple3\n",
      "Enter tuple: 1234\n",
      "Enter tuple: 5678\n",
      "Enter tuple: 0987\n",
      "Sum of third element of tuples:  18\n"
     ]
    }
   ],
   "source": [
    "n = int(input(\"Enter no. of tuple\"))\n",
    "ls = []\n",
    "\n",
    "for i in range(0,n):\n",
    "    a = tuple(input(\"Enter tuple: \"))\n",
    "    ls.append(a)\n",
    "\n",
    "sum = 0\n",
    "for i in ls:\n",
    "    sum += int(i[2])\n",
    "print(\"Sum of third element of tuples: \",sum,end=\"\\n\")"
   ]
  },
  {
   "cell_type": "markdown",
   "id": "043a88c0",
   "metadata": {},
   "source": [
    "#### 5. Write a python program to Convert a long  string to a list and print all the words and their frequencies"
   ]
  },
  {
   "cell_type": "code",
   "execution_count": 1,
   "id": "5c35a4f9",
   "metadata": {},
   "outputs": [
    {
     "name": "stdout",
     "output_type": "stream",
     "text": [
      "Enter the string: Write a python program to Convert a long string to a list and print all the words and their frequencies\n",
      "Write : 1\n",
      "a : 3\n",
      "python : 1\n",
      "program : 1\n",
      "to : 2\n",
      "Convert : 1\n",
      "long : 1\n",
      "string : 1\n",
      "list : 1\n",
      "and : 2\n",
      "print : 1\n",
      "all : 1\n",
      "the : 1\n",
      "words : 1\n",
      "their : 1\n",
      "frequencies : 1\n"
     ]
    }
   ],
   "source": [
    "s = input(\"Enter the string: \")\n",
    "s = s.replace(\"  \",\" \")\n",
    "ls = s.split(\" \")\n",
    "\n",
    "freq = {}\n",
    "for i in ls:\n",
    "    freq[i]=ls.count(i)\n",
    "\n",
    "for key, value in freq.items():\n",
    "        print (\"%s : %d\"%(key, value))"
   ]
  },
  {
   "cell_type": "code",
   "execution_count": null,
   "id": "ebe1ee3e",
   "metadata": {},
   "outputs": [],
   "source": []
  }
 ],
 "metadata": {
  "kernelspec": {
   "display_name": "Python 3",
   "language": "python",
   "name": "python3"
  },
  "language_info": {
   "codemirror_mode": {
    "name": "ipython",
    "version": 3
   },
   "file_extension": ".py",
   "mimetype": "text/x-python",
   "name": "python",
   "nbconvert_exporter": "python",
   "pygments_lexer": "ipython3",
   "version": "3.8.8"
  }
 },
 "nbformat": 4,
 "nbformat_minor": 5
}
