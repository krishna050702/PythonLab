{
 "cells": [
  {
   "cell_type": "markdown",
   "id": "be6af2ee",
   "metadata": {},
   "source": [
    "## Name: Krishna Mundada\n",
    "## Batch: E3\n",
    "## Roll no:- 45\n",
    "## Topic :- Python Lab 1"
   ]
  },
  {
   "cell_type": "markdown",
   "id": "6940ee1d",
   "metadata": {},
   "source": [
    "### Question 1\n",
    "### Write a program to print the following using for loop"
   ]
  },
  {
   "cell_type": "code",
   "execution_count": null,
   "id": "558be424",
   "metadata": {},
   "outputs": [],
   "source": [
    "# first 10 even numbers\n",
    "x=2\n",
    "print(\"Printing first 10 even numbers: \")\n",
    "for i in range(10):\n",
    "    print(x)\n",
    "    x=x+2"
   ]
  },
  {
   "cell_type": "code",
   "execution_count": null,
   "id": "b1b38041",
   "metadata": {},
   "outputs": [],
   "source": [
    "# first 10 odd numbers\n",
    "x=1\n",
    "print(\"First 10 odd numbers: \")\n",
    "for i in range(10):\n",
    "    print(x)\n",
    "    x+=2"
   ]
  },
  {
   "cell_type": "code",
   "execution_count": null,
   "id": "97d62393",
   "metadata": {},
   "outputs": [],
   "source": [
    "# first 10 natural numbers\n",
    "x=1\n",
    "print(\"First 10 natural numbers: \")\n",
    "for i in range(10):\n",
    "    print(x)\n",
    "    x+=1"
   ]
  },
  {
   "cell_type": "code",
   "execution_count": null,
   "id": "b501cb1b",
   "metadata": {},
   "outputs": [],
   "source": [
    "#first 10 whole numbers\n",
    "print(\"Printing first 10 whole numbers\")\n",
    "for i in range(10):\n",
    "    print(i)"
   ]
  },
  {
   "cell_type": "markdown",
   "id": "bd933d7a",
   "metadata": {},
   "source": [
    "### Question 2\n",
    "### Write a program to display the number names of the digits of a number entered by user, for example if the number is 541 then output should be Five Four One"
   ]
  },
  {
   "cell_type": "code",
   "execution_count": 74,
   "id": "73fe8181",
   "metadata": {},
   "outputs": [
    {
     "name": "stdout",
     "output_type": "stream",
     "text": [
      "Enter a number : 6790\n",
      "Six Seven Nine Zero "
     ]
    }
   ],
   "source": [
    "num = input(\"Enter a number : \")\n",
    "list = [\"Zero\", \"One\", \"Two\", \"Three\", \"Four\", \"Five\", \"Six\", \"Seven\", \"Eight\", \"Nine\"]\n",
    "\n",
    "x = [int(a) for a in num]\n",
    "for i in x:\n",
    "    print(list[i],end=\" \")"
   ]
  },
  {
   "cell_type": "markdown",
   "id": "5845648f",
   "metadata": {},
   "source": [
    "### Question 3\n",
    "### Write a program to add first n terms of the following series using a for loop:"
   ]
  },
  {
   "cell_type": "code",
   "execution_count": 1,
   "id": "d7dc9d90",
   "metadata": {},
   "outputs": [
    {
     "name": "stdout",
     "output_type": "stream",
     "text": [
      "Enter a number: 10\n",
      "Sum of first n terms is:  55\n"
     ]
    }
   ],
   "source": [
    "sum=0\n",
    "n=int(input(\"Enter a number: \"))\n",
    "for i in range(1,n+1):\n",
    "    sum=sum+i\n",
    "print(\"Sum of first n terms is: \",sum)"
   ]
  },
  {
   "cell_type": "markdown",
   "id": "d2f31693",
   "metadata": {},
   "source": [
    "### Question 4\n",
    "### Sum of 1/1! + 1/2! + 1/3! + ....... 1/n!"
   ]
  },
  {
   "cell_type": "code",
   "execution_count": 6,
   "id": "5629240e",
   "metadata": {},
   "outputs": [
    {
     "name": "stdout",
     "output_type": "stream",
     "text": [
      "Enter the number: 4\n",
      "The sum of series is:  1.7083333333333335\n"
     ]
    }
   ],
   "source": [
    "import math\n",
    "n=int(input(\"Enter the number: \"))\n",
    "s=0.0\n",
    "for i in range (1,n+1):\n",
    "    a=1.0/math.factorial(i)\n",
    "    s=s+a\n",
    "print(\"The sum of series is: \",s)"
   ]
  },
  {
   "cell_type": "markdown",
   "id": "607586a5",
   "metadata": {},
   "source": [
    "### Question 5\n",
    "### Write a program to display sum of odd numbers and even numbers separately that fall between two numbers accepted from the user.(including both numbers)."
   ]
  },
  {
   "cell_type": "code",
   "execution_count": 7,
   "id": "19d2ef76",
   "metadata": {},
   "outputs": [
    {
     "name": "stdout",
     "output_type": "stream",
     "text": [
      "Enter the start number: 3\n",
      "Enter the end number: 8\n",
      "Sum of even numbers is 18\n",
      "Sum of odd numbers is 15\n"
     ]
    }
   ],
   "source": [
    "s=int(input(\"Enter the start number: \"))\n",
    "e=int(input(\"Enter the end number: \"))\n",
    "sume=0\n",
    "sumo=0\n",
    "for i in range(s,e+1):\n",
    "    if(i%2==0):\n",
    "        sume=sume+i\n",
    "    else:\n",
    "        sumo=sumo+i\n",
    "print(\"Sum of even numbers is\",sume)\n",
    "print(\"Sum of odd numbers is\",sumo)"
   ]
  },
  {
   "cell_type": "markdown",
   "id": "47d03cf0",
   "metadata": {},
   "source": [
    "### Question 6\n",
    "### Write a program to display all the numbers which are divisible by 13 but not by 3 between 100 and 500."
   ]
  },
  {
   "cell_type": "code",
   "execution_count": 8,
   "id": "f1fd1f1b",
   "metadata": {},
   "outputs": [
    {
     "name": "stdout",
     "output_type": "stream",
     "text": [
      "104 130 143 169 182 208 221 247 260 286 299 325 338 364 377 403 416 442 455 481 494 "
     ]
    }
   ],
   "source": [
    "for i in range(100,501):\n",
    "    if(i%13==0 and i%3!=0):\n",
    "        print(i,end=\" \")"
   ]
  },
  {
   "cell_type": "markdown",
   "id": "c30777ea",
   "metadata": {},
   "source": [
    "### Question 7\n",
    "### Write a Program to print all the characters in the string ‘PYTHON PROGRAMMING’ using a for loop."
   ]
  },
  {
   "cell_type": "code",
   "execution_count": 10,
   "id": "041a765c",
   "metadata": {},
   "outputs": [
    {
     "name": "stdout",
     "output_type": "stream",
     "text": [
      "P\n",
      "Y\n",
      "T\n",
      "H\n",
      "O\n",
      "N\n",
      " \n",
      "P\n",
      "R\n",
      "O\n",
      "G\n",
      "R\n",
      "A\n",
      "M\n",
      "M\n",
      "I\n",
      "N\n",
      "G\n"
     ]
    }
   ],
   "source": [
    "str=\"PYTHON PROGRAMMING\"\n",
    "for i in str:\n",
    "    print(i)"
   ]
  },
  {
   "cell_type": "markdown",
   "id": "1dba131d",
   "metadata": {},
   "source": [
    "### Question 8\n",
    "### Write a program to print all the factors of a number using a for loop."
   ]
  },
  {
   "cell_type": "code",
   "execution_count": 14,
   "id": "2dae5e40",
   "metadata": {},
   "outputs": [
    {
     "name": "stdout",
     "output_type": "stream",
     "text": [
      "Enter a number: 8\n",
      "1 2 4 8 "
     ]
    }
   ],
   "source": [
    "n=int(input(\"Enter a number: \"))\n",
    "for i in range(1,n+1):\n",
    "    if(n%i==0):\n",
    "        print(i,end=\" \")"
   ]
  },
  {
   "cell_type": "markdown",
   "id": "5a3dff84",
   "metadata": {},
   "source": [
    "### Question 9\n",
    "### Write a program to print the following series till n terms.1 4 9 16 25 _ _ _ _ _ n terms"
   ]
  },
  {
   "cell_type": "code",
   "execution_count": 50,
   "id": "1c85b4a9",
   "metadata": {},
   "outputs": [
    {
     "name": "stdout",
     "output_type": "stream",
     "text": [
      "Enter a number: 6\n",
      "1 4 9 16 25 36 "
     ]
    }
   ],
   "source": [
    "n=int(input(\"Enter a number: \"))\n",
    "for i in range(1,n+1):\n",
    "    print(i*i,end=\" \")"
   ]
  },
  {
   "cell_type": "markdown",
   "id": "e68589a6",
   "metadata": {},
   "source": [
    "### Question 10\n",
    "### Write a program to print all prime numbers between the given interval."
   ]
  },
  {
   "cell_type": "code",
   "execution_count": 3,
   "id": "42ac1aba",
   "metadata": {},
   "outputs": [
    {
     "name": "stdout",
     "output_type": "stream",
     "text": [
      "Enter lower range: 2\n",
      "Enter upper range: 30\n",
      "2  3  5  7  11  13  17  19  23  29  "
     ]
    }
   ],
   "source": [
    "lower = int(input(\"Enter lower range: \"))  \n",
    "upper = int(input(\"Enter upper range: \"))  \n",
    "  \n",
    "for num in range(lower,upper + 1):  \n",
    "    if num > 1:  \n",
    "        for i in range(2,num):  \n",
    "            if (num % i) == 0:  \n",
    "                break  \n",
    "        else:  \n",
    "            print(num,end=\"  \") "
   ]
  },
  {
   "cell_type": "markdown",
   "id": "b164d5a7",
   "metadata": {},
   "source": [
    "### Question 11\n",
    "### Write a Python program to construct the following pattern, using a nested for loop."
   ]
  },
  {
   "cell_type": "code",
   "execution_count": 28,
   "id": "25691143",
   "metadata": {},
   "outputs": [
    {
     "name": "stdout",
     "output_type": "stream",
     "text": [
      "* \n",
      "* * \n",
      "* * * \n",
      "* * * * \n",
      "* * * * * \n",
      "* * * * \n",
      "* * * \n",
      "* * \n",
      "* \n"
     ]
    }
   ],
   "source": [
    "for i in range(1,6):\n",
    "    print(\"* \"*i)\n",
    "for i in reversed(range(1,5)):\n",
    "    print(\"* \"*i)"
   ]
  },
  {
   "cell_type": "markdown",
   "id": "b9b0c14c",
   "metadata": {},
   "source": [
    "### Question 12\n",
    "### Write a program to print the grade card of a student. Accept marks of 5 subjects for a student, compute the % of marks and print the grade. If the percentage is greater than 80 then grade A, if between 60-79 then B, if between 40-50 then C, otherwise F."
   ]
  },
  {
   "cell_type": "code",
   "execution_count": 53,
   "id": "6d6ecccf",
   "metadata": {},
   "outputs": [
    {
     "name": "stdout",
     "output_type": "stream",
     "text": [
      "98\n",
      "97\n",
      "96\n",
      "97\n",
      "95\n",
      "Grade= A\n"
     ]
    }
   ],
   "source": [
    "sum=0\n",
    "list=[]\n",
    "for i in range(5):\n",
    "    temp=int(input())\n",
    "    list.append(temp)\n",
    "for i in range(5):\n",
    "    sum=sum+list[i]\n",
    "per=sum/5\n",
    "if(per>=80):\n",
    "    print(\"Grade= A\")\n",
    "elif(per>=60 and per<80):\n",
    "    print(\"Grade= B\")\n",
    "elif(per>=40 and per<60):\n",
    "    print(\"Grade= C\")\n",
    "else:\n",
    "    print(\"Grade= F\")\n",
    "    "
   ]
  },
  {
   "cell_type": "markdown",
   "id": "f632558f",
   "metadata": {},
   "source": [
    "### Question 13\n",
    "### Write a program to perform the following task: \n",
    "(a) Accept the name of subject and marks information for two subjects \n",
    "(b) if subject is maths or science then add the marks and print \n",
    "(c) If the subject is English or social then find the percentage of marks."
   ]
  },
  {
   "cell_type": "code",
   "execution_count": 57,
   "id": "eab5f58f",
   "metadata": {},
   "outputs": [
    {
     "name": "stdout",
     "output_type": "stream",
     "text": [
      "Enter first subject name: maths\n",
      "Enter the marks of first subject: 96\n",
      "Enter second subject name: science\n",
      "Enter the marks of second subject: 97\n",
      "\n",
      "Sum of marks in maths and science is  193\n"
     ]
    }
   ],
   "source": [
    "sub1=input(\"Enter first subject name: \")\n",
    "mark1=int(input(\"Enter the marks of first subject: \"))\n",
    "sub2=input(\"Enter second subject name: \")\n",
    "mark2=int(input(\"Enter the marks of second subject: \"))\n",
    "if(sub1==\"maths\" or sub2==\"science\"):\n",
    "    print(\"\\nSum of marks in maths and science is \",mark1+mark2)\n",
    "else:\n",
    "    print(\"\\nPercentage in english and social is \",(marks1+marks2)/2)"
   ]
  },
  {
   "cell_type": "markdown",
   "id": "3362c2e4",
   "metadata": {},
   "source": [
    "### Question 14\n",
    "### Write a program to accept 10 numbers and find the largest element. Use the appropriate data type."
   ]
  },
  {
   "cell_type": "code",
   "execution_count": 1,
   "id": "55724589",
   "metadata": {},
   "outputs": [
    {
     "name": "stdout",
     "output_type": "stream",
     "text": [
      "Enter number : 5\n",
      "Enter number : 1\n",
      "Enter number : 2\n",
      "Enter number : 3\n",
      "Enter number : 4\n",
      "Enter number : 6\n",
      "Enter number : 7\n",
      "Enter number : 8\n",
      "Enter number : 9\n",
      "Enter number : 0\n",
      "\n",
      "Largest element is  9  found at index  8\n",
      "Smallest element is  0  found at index  9\n"
     ]
    }
   ],
   "source": [
    "list = []\n",
    "tup = ()\n",
    "for i in range(10):\n",
    "    temp = int(input(\"Enter number : \"))\n",
    "    list.append(temp)\n",
    "    \n",
    "tup = tuple(list)\n",
    "max_el = max(tup)\n",
    "min_el = min(tup)\n",
    "\n",
    "max_ind = tup.index(max_el)\n",
    "min_ind = tup.index(min_el)\n",
    "\n",
    "print(\"\\nLargest element is \", max_el, \" found at index \", max_ind)\n",
    "print(\"Smallest element is \", min_el, \" found at index \", min_ind)"
   ]
  },
  {
   "cell_type": "markdown",
   "id": "078faf36",
   "metadata": {},
   "source": [
    "### Question 15"
   ]
  },
  {
   "cell_type": "code",
   "execution_count": 5,
   "id": "b8f63061",
   "metadata": {},
   "outputs": [
    {
     "name": "stdout",
     "output_type": "stream",
     "text": [
      "Input a character string: Krishna\n",
      "The ascii list is : [75, 114, 105, 115, 104, 110, 97]\n"
     ]
    }
   ],
   "source": [
    "str1=input(\"Input a character string: \")\n",
    "res = []\n",
    "for ele in str1:\n",
    "    res.extend(ord(num) for num in ele)\n",
    "print(\"The ascii list is : \" + str(res))"
   ]
  },
  {
   "cell_type": "markdown",
   "id": "b118eda3",
   "metadata": {},
   "source": [
    "### Question 15"
   ]
  },
  {
   "cell_type": "code",
   "execution_count": 4,
   "id": "3ace7369",
   "metadata": {},
   "outputs": [
    {
     "name": "stdout",
     "output_type": "stream",
     "text": [
      "The concatenated list is : [[1, 2, 3, 4, 5], [1, 2, 3, 9, 3, 5, 7], [3, 7, 4, 8]]\n"
     ]
    }
   ],
   "source": [
    "test_line1=[[1,2,3],[1,2,3],[3,7,4]]\n",
    "test_line2=[[4,5],[9,3,5,7],[8]]\n",
    "\n",
    "res = list(sub1 + sub2 for sub1, sub2 in zip(test_line1, test_line2))\n",
    "\n",
    "print(\"The concatenated list is : \" +  str(res))"
   ]
  },
  {
   "cell_type": "code",
   "execution_count": null,
   "id": "16386e04",
   "metadata": {},
   "outputs": [],
   "source": []
  }
 ],
 "metadata": {
  "kernelspec": {
   "display_name": "Python 3",
   "language": "python",
   "name": "python3"
  },
  "language_info": {
   "codemirror_mode": {
    "name": "ipython",
    "version": 3
   },
   "file_extension": ".py",
   "mimetype": "text/x-python",
   "name": "python",
   "nbconvert_exporter": "python",
   "pygments_lexer": "ipython3",
   "version": "3.8.8"
  }
 },
 "nbformat": 4,
 "nbformat_minor": 5
}
