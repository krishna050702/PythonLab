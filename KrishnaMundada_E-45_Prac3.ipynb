{
 "cells": [
  {
   "cell_type": "markdown",
   "metadata": {},
   "source": [
    "### Name:- Krishna Mundada \n",
    "### Roll no: 45\n",
    "## PRACTICAL NO. 3"
   ]
  },
  {
   "cell_type": "markdown",
   "metadata": {},
   "source": [
    "### Question 1. Let’s say you have a huge list that contains student grades: \n",
    "Grades = ['A', 'A', 'B', 'C', 'D', 'B', 'B', 'C', 'D', 'E', 'C', 'C', 'A', 'B', 'F', 'D', 'C',  'B', 'C', 'A', 'B', 'F', 'B', 'A', 'E', 'B', 'B', 'C', 'D']\n",
    "You want to identify distinct grades allotted to students. "
   ]
  },
  {
   "cell_type": "code",
   "execution_count": 5,
   "metadata": {},
   "outputs": [
    {
     "name": "stdout",
     "output_type": "stream",
     "text": [
      "Distinct grades:  {'F', 'D', 'E', 'A', 'C', 'B'}\n"
     ]
    }
   ],
   "source": [
    "## type your code here\n",
    "grades = ['A', 'A', 'B', 'C', 'D', 'B', 'B', 'C', 'D', 'E', 'C', 'C', 'A', 'B', 'F', 'D', 'C',  'B', 'C', 'A', 'B', 'F', 'B', 'A', 'E', 'B', 'B', 'C', 'D']\n",
    "print(\"Distinct grades: \",set(grades))"
   ]
  },
  {
   "cell_type": "markdown",
   "metadata": {},
   "source": [
    "### Question 2. Let’s say you have two lists A and B. Identify the elements which are common in the two lists A and B and return them in a sorted manner. For example \n",
    " Sample Input :\n",
    "A = [5,1,3,4,4,5,6,7]\n",
    "B = [3,3,5,5, 1 ,7 ,2]\n",
    " Sample Output:\n",
    "[1,3,5,7]"
   ]
  },
  {
   "cell_type": "code",
   "execution_count": 6,
   "metadata": {},
   "outputs": [
    {
     "name": "stdout",
     "output_type": "stream",
     "text": [
      "[1, 3, 5, 7]\n"
     ]
    }
   ],
   "source": [
    "## type your code here\n",
    "A = [5,1,3,4,4,5,6,7]\n",
    "B = [3,3,5,5, 1 ,7 ,2]\n",
    "C=[]\n",
    "for ele in set(A):\n",
    "    if ele in B:\n",
    "        C.append(ele)\n",
    "C.sort()\n",
    "print(C)"
   ]
  },
  {
   "cell_type": "markdown",
   "metadata": {},
   "source": [
    "### Question 3. Create a SORTED list of all values from the dictionary input_dict = {'Jack Dorsey' : 'Twitter' , 'Tim Cook' : 'Apple', 'Jeff Bezos' : 'Amazon' , 'Mukesh Ambani' : 'RJIO'}\n",
    " Sample Output:\n",
    "['Amazon', 'Apple', 'RJIO', 'Twitter']"
   ]
  },
  {
   "cell_type": "code",
   "execution_count": 7,
   "metadata": {},
   "outputs": [
    {
     "name": "stdout",
     "output_type": "stream",
     "text": [
      "['Amazon', 'Apple', 'RJIO', 'Twitter']\n"
     ]
    }
   ],
   "source": [
    "## type your code here\n",
    "input_dict = {'Jack Dorsey' : 'Twitter' , 'Tim Cook' : 'Apple', 'Jeff Bezos' : 'Amazon' , 'Mukesh Ambani' : 'RJIO'}\n",
    "list1=[]\n",
    "for ele in input_dict.values():\n",
    "    list1.append(ele)\n",
    "list1.sort()\n",
    "print(list1)"
   ]
  },
  {
   "cell_type": "markdown",
   "metadata": {},
   "source": [
    "### Question 4. Write code to fetch the profession of the employee with Employee id entered by the user from an employee input given in the form of a dictionary where key represent employ id and values represent the name, age, and profession (in the same order).\n",
    " Given Dictionary:\n",
    "Employee_data = { 101:['Shiva', 24, 'Content Strategist'] ,102:['Udit',25,'Content Strategist'], 103:['Sonam', 28,'Sr Manager'], 104:['Ansari',29,'Product Lead' ],105:['Huzefa',32,'Project Manager' ]}\n",
    " Sample output:\n",
    "'Product Lead'"
   ]
  },
  {
   "cell_type": "code",
   "execution_count": 8,
   "metadata": {},
   "outputs": [
    {
     "name": "stdout",
     "output_type": "stream",
     "text": [
      "Enter ID: 104\n",
      "Product Lead\n"
     ]
    }
   ],
   "source": [
    "## type your code here\n",
    "Employee_data = { 101:['Shiva', 24, 'Content Strategist'] ,102:['Udit',25,'Content Strategist'], 103:['Sonam', 28,'Sr Manager'], 104:['Ansari',29,'Product Lead' ],105:['Huzefa',32,'Project Manager' ]}\n",
    "empid = int(input(\"Enter ID: \"))\n",
    "if empid in Employee_data:\n",
    "    print(Employee_data[empid][2])"
   ]
  },
  {
   "cell_type": "markdown",
   "metadata": {},
   "source": [
    "### Question 5 Create a Nested Dictionary Using folowing table in format:-"
   ]
  },
  {
   "cell_type": "raw",
   "metadata": {
    "scrolled": true
   },
   "source": [
    "#### Question 5\n",
    "Create a Nested Dictionary Using the given table in the format: \n",
    "Olympic = {County1 : {Country Code-1 : {Gold : value , Silver : value , Bronze : value} }, County2 : \n",
    "{Country Code-2 : {Gold : value , Silver : value , Bronze : value} }, ….}\n",
    "\n",
    "Country         || Country Code ||Year  ||Medal-Gold|| Medal-Silver || Medal- Bronze\n",
    "Great Britain   ||    GBR       || 2012 || 29       ||  17          ||  19\n",
    "China           ||    CHN       || 2012 || 38       ||  28          ||  22\n",
    "Russia          ||    RUS       || 2012 || 24       || 25           ||  32\n",
    "United States   ||    US        || 2012 || 46       || 28           ||  29\n",
    "Korea           ||    KOR       || 2012 || 13       || 8            ||  7\n",
    "Japan           ||    JPN       || 2012 || 7        || 14           ||  17\n",
    "Germany         ||    GER       || 2012 || 11       || 11           ||  14\n",
    "\n",
    "Write a Python Code to:\n",
    "Q.1. Find the country with maximum gold medals\n",
    "Q.2. Find the countries with more than 20 gold medals\n",
    "Q.3. Evaluate the Dictionary and print the name of each country with its gold medals and total \n",
    "number of medals"
   ]
  },
  {
   "cell_type": "code",
   "execution_count": 2,
   "metadata": {
    "scrolled": true
   },
   "outputs": [
    {
     "name": "stdout",
     "output_type": "stream",
     "text": [
      "{'Great Britain': {'GBR': {'Gold': 29, 'Silver': 17, 'Bronze': 19}}, 'China': {'CHN': {'Gold': 38, 'Silver': 28, 'Bronze': 22}}, 'Russia': {'RUS': {'Gold': 24, 'Silver': 25, 'Bronze': 32}}, 'United States': {'US': {'Gold': 46, 'Silver': 28, 'Bronze': 29}}, 'Korea': {'KOR': {'Gold': 13, 'Silver': 8, 'Bronze': 7}}, 'Japan': {'JPN': {'Gold': 7, 'Silver': 14, 'Bronze': 17}}, 'Germany': {'GER': {'Gold': 11, 'Silver': 11, 'Bronze': 14}}}\n"
     ]
    }
   ],
   "source": [
    "Olympic = {'Great Britain' : {'GBR' : {'Gold' : 29 ,'Silver' : 17 , 'Bronze' : 19}}, 'China'  : {'CHN'  : {'Gold' : 38 , 'Silver' : 28, 'Bronze' : 22} },'Russia' : {'RUS'  : {'Gold' : 24 , 'Silver' : 25, 'Bronze' : 32} },'United States'  : {'US'   : {'Gold' : 46 , 'Silver' : 28, 'Bronze' : 29} },'Korea'  : { 'KOR'  : {'Gold' : 13 , 'Silver' : 8, 'Bronze' : 7} },'Japan'  : {'JPN' : {'Gold' : 7 , 'Silver' : 14, 'Bronze' : 17} },'Germany'  : {'GER'  : {'Gold' : 11 , 'Silver' : 11, 'Bronze' : 14} },}\n",
    "print(Olympic)"
   ]
  },
  {
   "cell_type": "markdown",
   "metadata": {},
   "source": [
    "### Q.1. Find the country with maximum gold medals"
   ]
  },
  {
   "cell_type": "code",
   "execution_count": 3,
   "metadata": {},
   "outputs": [
    {
     "name": "stdout",
     "output_type": "stream",
     "text": [
      "United States\n"
     ]
    }
   ],
   "source": [
    "max=0\n",
    "c=''\n",
    "for country,val1 in Olympic.items():\n",
    "    for code,val2 in val1.items():\n",
    "        if val2['Gold']>max:\n",
    "            max=val2['Gold']\n",
    "            c=country\n",
    "print(c)"
   ]
  },
  {
   "cell_type": "markdown",
   "metadata": {},
   "source": [
    "### Q.2. Find the countries with more than 20 gold medal"
   ]
  },
  {
   "cell_type": "code",
   "execution_count": 4,
   "metadata": {},
   "outputs": [
    {
     "name": "stdout",
     "output_type": "stream",
     "text": [
      "Great Britain\n",
      "China\n",
      "Russia\n",
      "United States\n"
     ]
    }
   ],
   "source": [
    "for country,val1 in Olympic.items():\n",
    "    for code,val2 in val1.items():\n",
    "        if val2['Gold']>20:\n",
    "            print(country)"
   ]
  },
  {
   "cell_type": "markdown",
   "metadata": {},
   "source": [
    "### Q.3. Evaluate the Dictionary and print the name of each country with its gold medals and total number of medals"
   ]
  },
  {
   "cell_type": "code",
   "execution_count": 4,
   "metadata": {},
   "outputs": [
    {
     "name": "stdout",
     "output_type": "stream",
     "text": [
      "Great Britain:\t Gold medals:29\t Total medals: 65\n",
      "\n",
      "China:\t Gold medals:38\t Total medals: 88\n",
      "\n",
      "Russia:\t Gold medals:24\t Total medals: 81\n",
      "\n",
      "United States:\t Gold medals:46\t Total medals: 103\n",
      "\n",
      "Korea:\t Gold medals:13\t Total medals: 28\n",
      "\n",
      "Japan:\t Gold medals:7\t Total medals: 38\n",
      "\n",
      "Germany:\t Gold medals:11\t Total medals: 36\n",
      "\n"
     ]
    }
   ],
   "source": [
    "for country,val1 in Olympic.items():\n",
    "    for code,val2 in val1.items():\n",
    "        total=val2['Gold']+val2['Silver']+val2['Bronze']\n",
    "        print(f\"{country}:\\t Gold medals:{val2['Gold']}\\t Total medals: {total}\\n\")"
   ]
  }
 ],
 "metadata": {
  "kernelspec": {
   "display_name": "Python 3",
   "language": "python",
   "name": "python3"
  },
  "language_info": {
   "codemirror_mode": {
    "name": "ipython",
    "version": 3
   },
   "file_extension": ".py",
   "mimetype": "text/x-python",
   "name": "python",
   "nbconvert_exporter": "python",
   "pygments_lexer": "ipython3",
   "version": "3.8.8"
  }
 },
 "nbformat": 4,
 "nbformat_minor": 2
}
