{
 "cells": [
  {
   "cell_type": "markdown",
   "id": "6cf3d0a9",
   "metadata": {},
   "source": [
    "# $$\\text{Practical 5}$$\n",
    "\n",
    "## Name : Krishna Mundada\n",
    "## Roll no : 45\n",
    "## Section : E3\n",
    "## Subject : Python Programming Lab (CAP 201)\n",
    "## Topic : Numpy\n"
   ]
  },
  {
   "cell_type": "markdown",
   "id": "b76ce1d4",
   "metadata": {},
   "source": [
    "### 1. Write a python code for addition, subtraction and multiplication of two 4x4 matrices."
   ]
  },
  {
   "cell_type": "code",
   "execution_count": 1,
   "id": "3bd3fdf3",
   "metadata": {},
   "outputs": [
    {
     "name": "stdout",
     "output_type": "stream",
     "text": [
      "Additon:\n",
      " [[ 8 11  6  8]\n",
      " [10  9 14 17]\n",
      " [16  6  8  4]\n",
      " [13 11 14  4]]\n",
      "\n",
      "Subtraction:\n",
      " [[-6 -7  0  0]\n",
      " [ 0  3  0 -1]\n",
      " [ 2  0  4  0]\n",
      " [-3 -7  0  2]]\n",
      "\n",
      "Multiplication:\n",
      " [[ 70  60  51  32]\n",
      " [178 156 127  96]\n",
      " [136 126  74  77]\n",
      " [118  99  64  55]]\n"
     ]
    }
   ],
   "source": [
    "import numpy as np\n",
    "\n",
    "arr1 = np.array([[1,2,3,4],[5,6,7,8],[9,3,6,2],[5,2,7,3]])\n",
    "arr2 = np.array([[7,9,3,4],[5,3,7,9],[7,3,2,2],[8,9,7,1]])\n",
    "\n",
    "print(\"Additon:\\n\",arr1+arr2)\n",
    "print(\"\\nSubtraction:\\n\",arr1-arr2)\n",
    "print(\"\\nMultiplication:\\n\",np.dot(arr1,arr2))"
   ]
  },
  {
   "cell_type": "markdown",
   "id": "73c891b8",
   "metadata": {},
   "source": [
    "### 2. Create a 5 by 2 integer array from a range between 100 to200 such that the difference between each element is 10.Print the same."
   ]
  },
  {
   "cell_type": "code",
   "execution_count": 2,
   "id": "bfbc89de",
   "metadata": {},
   "outputs": [
    {
     "name": "stdout",
     "output_type": "stream",
     "text": [
      "5x2 Array:\n",
      "\n",
      " [[100 110]\n",
      " [120 130]\n",
      " [140 150]\n",
      " [160 170]\n",
      " [180 190]]\n"
     ]
    }
   ],
   "source": [
    "arr = np.arange(100,200,10)\n",
    "arr=arr.reshape(5,2)\n",
    "print(\"5x2 Array:\\n\\n\",arr)"
   ]
  },
  {
   "cell_type": "markdown",
   "id": "977ad1f7",
   "metadata": {},
   "source": [
    "### 3. Consider two matrices\n",
    "### M1=([[2,3,4], [6,5,2], [6,7,3]])\n",
    "### M2=([[1,4,2], [4,3,6],[5,9,8]])\n",
    "### Calculate manually as well as develop the python programfor the following:\n",
    "### (1) matrix multiplication (dot product) (2) inner product (3)cross product (4) outer product"
   ]
  },
  {
   "cell_type": "code",
   "execution_count": 3,
   "id": "31a6128a",
   "metadata": {},
   "outputs": [
    {
     "name": "stdout",
     "output_type": "stream",
     "text": [
      "Multiplication(Dot Product) : \n",
      " [[34 53 54]\n",
      " [36 57 58]\n",
      " [49 72 78]]\n",
      "\n",
      "Inner Product : \n",
      " [[ 22  41  69]\n",
      " [ 30  51  91]\n",
      " [ 40  63 117]]\n",
      "\n",
      "Cross Product : \n",
      " [[-10   0   5]\n",
      " [ 24 -28  -2]\n",
      " [ 29 -33  19]]\n",
      "\n",
      "Outer Product : \n",
      " [[ 2  8  4  8  6 12 10 18 16]\n",
      " [ 3 12  6 12  9 18 15 27 24]\n",
      " [ 4 16  8 16 12 24 20 36 32]\n",
      " [ 6 24 12 24 18 36 30 54 48]\n",
      " [ 5 20 10 20 15 30 25 45 40]\n",
      " [ 2  8  4  8  6 12 10 18 16]\n",
      " [ 6 24 12 24 18 36 30 54 48]\n",
      " [ 7 28 14 28 21 42 35 63 56]\n",
      " [ 3 12  6 12  9 18 15 27 24]]\n"
     ]
    }
   ],
   "source": [
    "M1=([[2,3,4],[6,5,2],[6,7,3]])\n",
    "M2=([[1,4,2],[4,3,6],[5,9,8]])\n",
    "\n",
    "r1 = np.dot(M1,M2)\n",
    "r2 = np.inner(M1,M2)\n",
    "r3 = np.cross(M1,M2)\n",
    "r4 = np.outer(M1,M2)\n",
    "print(\"Multiplication(Dot Product) : \\n\",r1)\n",
    "print(\"\\nInner Product : \\n\",r2)\n",
    "print(\"\\nCross Product : \\n\",r3)\n",
    "print(\"\\nOuter Product : \\n\",r4)"
   ]
  },
  {
   "cell_type": "markdown",
   "id": "b05b8cf5",
   "metadata": {},
   "source": [
    "### 4. Randomly generate the marks of the 80 students in the range of 40 to 95. Write a NumPy program to compute the 70 percentile for all elements in a given array. (Hint: use np.random.randint(start,stop,no_of_items) for list generation) (Hint: Use np.percentile)"
   ]
  },
  {
   "cell_type": "code",
   "execution_count": 4,
   "id": "3750e6c3",
   "metadata": {},
   "outputs": [
    {
     "name": "stdout",
     "output_type": "stream",
     "text": [
      "Random marks:\n",
      "[52 57 81 84 56 72 42 80 51 70 44 89 66 79 63 51 73 78 57 44 66 50 82 52\n",
      " 67 92 62 82 69 89 41 67 75 63 84 71 86 59 83 87 56 60 94 50 57 70 82 88\n",
      " 57 54 78 57 48 68 67 57 58 62 92 44 51 43 75 41 41 59 73 84 45 60 90 40\n",
      " 77 40 58 79 78 92 53 45]\n",
      "\n",
      "70th percentile : 77.3\n"
     ]
    }
   ],
   "source": [
    "print(\"Random marks:\")\n",
    "arr = np.random.randint(40,95,80)\n",
    "print(arr)\n",
    "per = np.percentile(arr,70)\n",
    "print(\"\\n70th percentile :\",per)"
   ]
  },
  {
   "cell_type": "markdown",
   "id": "4eb4bbda",
   "metadata": {},
   "source": [
    "### 5. Write a NumPy program to compute the eigen values and right eigenvectors of a given square array.\n",
    "### Arr =([[1,4,8], [8,9,2],[9,7,8]])\n",
    "### HINT: Use linear algebra package under numpy. Add these statements i.e. for eigenvalues, import numpy as np from numpy import linalg np.linalg.eig(a)"
   ]
  },
  {
   "cell_type": "code",
   "execution_count": 5,
   "id": "c5aed439",
   "metadata": {},
   "outputs": [
    {
     "name": "stdout",
     "output_type": "stream",
     "text": [
      "Eigenvalues of the matrix: [18.61713304 -4.50451282  3.88737977]\n",
      "\n",
      "Eigenvectors of the matrix:\n",
      " [[-0.44798294 -0.82768979  0.36471887]\n",
      " [-0.52339057  0.43844259 -0.77347804]\n",
      " [-0.7248266   0.35028233  0.51837426]]\n"
     ]
    }
   ],
   "source": [
    "arr =([[1,4,8],[8,9,2],[9,7,8]])\n",
    "\n",
    "u,v = np.linalg.eig(arr)\n",
    "print( \"Eigenvalues of the matrix:\",u)\n",
    "print( \"\\nEigenvectors of the matrix:\\n\",v)"
   ]
  },
  {
   "cell_type": "code",
   "execution_count": null,
   "id": "9cc6b542",
   "metadata": {},
   "outputs": [],
   "source": []
  },
  {
   "cell_type": "code",
   "execution_count": null,
   "id": "f39b870e",
   "metadata": {},
   "outputs": [],
   "source": []
  }
 ],
 "metadata": {
  "kernelspec": {
   "display_name": "Python 3",
   "language": "python",
   "name": "python3"
  },
  "language_info": {
   "codemirror_mode": {
    "name": "ipython",
    "version": 3
   },
   "file_extension": ".py",
   "mimetype": "text/x-python",
   "name": "python",
   "nbconvert_exporter": "python",
   "pygments_lexer": "ipython3",
   "version": "3.8.8"
  }
 },
 "nbformat": 4,
 "nbformat_minor": 5
}
