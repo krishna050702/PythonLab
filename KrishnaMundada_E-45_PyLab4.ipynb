{
 "cells": [
  {
   "cell_type": "markdown",
   "id": "e67620b8",
   "metadata": {},
   "source": [
    "### Name : Krishna Mundada\n",
    "### Batch : E3\n",
    "### Roll No : 45"
   ]
  },
  {
   "cell_type": "code",
   "execution_count": 4,
   "id": "09e0f669",
   "metadata": {},
   "outputs": [],
   "source": [
    "def cricket_data(L):\n",
    "    file=open(\"cricket.txt\",\"w\")\n",
    "    file.writelines(L)\n",
    "    file.close()\n",
    "L=[]\n",
    "for i in range(1,6):\n",
    "    i=input(\"Enter Full Name : \")\n",
    "    L.append(i+\"\\n\")\n",
    "cricket_data(L)\n",
    "    "
   ]
  },
  {
   "cell_type": "code",
   "execution_count": 5,
   "id": "c9cbd58e",
   "metadata": {},
   "outputs": [],
   "source": [
    "def create_file(FL):\n",
    "    file2=open(\"flowers.txt\",\"w\")\n",
    "    file2.writelines(FL)\n",
    "    file2.close()\n",
    "FL=[\"Daisies\\n\",'''Daisies can thrive in both wet and dry climates, and sunny or shady areas. They can grow high in the mountains or in flat, grassy fields. Basically, daisies are botanical chameleons. Daisies are related to sunflowers, so they grow in similar habitats to their larger yellow cousins\\n''',\n",
    "   \"Lily\\n\",'''The lily is a genus of flowering plant. There are many species of lilies, like trumpet lilies and tiger lilies.They are usually quite tall, and are perennials.Most lilies grow from a bulb, which in some species develops into a rhizome, which carries small bulbs.Lilies grow in Europe, North America, and Asia. There are more than 100 species, and many cultivated varieties. They also come in various colours. It tends to grow wild in the forest and a grassy plain of a mountainous area, but several kinds grow wild on wet ground. A lily's petals come in multiples of three. The fleur de lys is a stylized depiction of the lily.\\n''',\"Rose\\n\",'''A rose is a woody perennial flowering plant of the genus Rosa, in the family Rosaceae, or the flower it bears. There are over three hundred species and tens of thousands of cultivars.[citation needed] They form a group of plants that can be erect shrubs, climbing, or trailing, with stems that are often armed with sharp prickles.[citation needed] Their flowers vary in size and shape and are usually large and showy, in colours ranging from white through yellows and reds.\\n''']\n",
    "create_file(FL)\n"
   ]
  },
  {
   "cell_type": "code",
   "execution_count": 6,
   "id": "c9248081",
   "metadata": {},
   "outputs": [
    {
     "name": "stdout",
     "output_type": "stream",
     "text": [
      "A rose is a woody perennial flowering plant of the genus Rosa, in the family Rosaceae, or the flower it bears. There are over three hundred species and tens of thousands of cultivars.[citation needed] They form a group of plants that can be erect shrubs, climbing, or trailing, with stems that are often armed with sharp prickles.[citation needed] Their flowers vary in size and shape and are usually large and showy, in colours ranging from white through yellows and reds.\n"
     ]
    }
   ],
   "source": [
    "def contents_of_file(key):\n",
    "    file2=open(\"flowers.txt\",\"r\")\n",
    "    str=file2.read()\n",
    "    l=str.split('\\n')\n",
    "    if(key==\"Daisies\"):\n",
    "        print(l[1])\n",
    "    elif(key==\"Lily\"):\n",
    "        print(l[3])\n",
    "    elif(key==\"Rose\"):\n",
    "        print(l[5])\n",
    "    else:\n",
    "        print(\"Enter a valid name\")\n",
    "contents_of_file(input(\"Enter the flower name : \"))"
   ]
  },
  {
   "cell_type": "code",
   "execution_count": 7,
   "id": "e33fced2",
   "metadata": {},
   "outputs": [],
   "source": [
    "def wr_tr_data(Train_List):\n",
    "    file3=open(\"west_train_details.txt\",\"w\")\n",
    "    file3.writelines(Train_List)\n",
    "    file3.close()\n",
    "    \n",
    "    \n",
    "Train_List=[\"12000\\n\",\"Train Name: Bandra to Virar\\tTrain Type : Express\\t Train No:12000\\t Arrival Time : 6:00\\t Depart Time : 6:05\\n\",\n",
    "             \"13000\\n\",\"Train Name: Dadar to Vihar\\t Train Type : Super Express\\t Train No:13000\\t Arrival Time : 7:00\\t Depart Time : 7:05\\n\",\n",
    "            \"14000\\n\",\"Train Name: Virar to Churchgate\\t Train Type : Passenger\\t Train No : 14000\\t Arrival Time : 8:00\\t Depart Time : 8:05\\n\"]\n",
    "wr_tr_data(Train_List)"
   ]
  },
  {
   "cell_type": "code",
   "execution_count": 8,
   "id": "1387467d",
   "metadata": {},
   "outputs": [
    {
     "name": "stdout",
     "output_type": "stream",
     "text": [
      "['Train Name: Virar to Churchgate', ' Train Type : Passenger', ' Train No : 14000', ' Arrival Time : 8:00', ' Depart Time : 8:05']\n"
     ]
    }
   ],
   "source": [
    "def train_details(key):\n",
    "    file3=open(\"west_train_details.txt\",\"r\")\n",
    "    str=file3.read()\n",
    "    l=str.split('\\n')\n",
    "    if(key==\"12000\"):\n",
    "        print(l[1].split('\\t'))\n",
    "    elif(key==\"13000\"):\n",
    "        print(l[3].split('\\t'))\n",
    "    elif(key==\"14000\"):\n",
    "        print(l[5].split('\\t'))\n",
    "    else:\n",
    "        print(\"Train not found in records\")\n",
    "train_details(input(\"Enter train number for info : \"))"
   ]
  },
  {
   "cell_type": "code",
   "execution_count": 9,
   "id": "87e6f05d",
   "metadata": {},
   "outputs": [
    {
     "name": "stdout",
     "output_type": "stream",
     "text": [
      "File Closed\n",
      "{'No of Lines': 12, 'No of Words': 169}\n"
     ]
    }
   ],
   "source": [
    "try:\n",
    "    f = open(\"u19.txt\",\"r\")\n",
    "    str=f.read()\n",
    "    l=str.split(' ')\n",
    "    no_words=len(l)\n",
    "    l=str.split('.')\n",
    "    no_sentences=len(l)\n",
    "except FileNotFoundError:\n",
    "    print(\"File does not exist\")\n",
    "finally:\n",
    "    f.close()\n",
    "    print(\"File Closed\")\n",
    "dict={\"No of Lines\":no_sentences,\"No of Words\":no_words}\n",
    "print(dict)"
   ]
  },
  {
   "cell_type": "code",
   "execution_count": 10,
   "id": "f9c20df1",
   "metadata": {},
   "outputs": [
    {
     "name": "stdout",
     "output_type": "stream",
     "text": [
      "File Closed\n",
      "['Thursday.', 'Saturday.']\n"
     ]
    }
   ],
   "source": [
    "try:\n",
    "    f = open(\"u19.txt\",\"r\")\n",
    "    str=f.read()\n",
    "    l=str.split()\n",
    "    week=[]\n",
    "    days=[\"Monday.\",\"Tuesday.\",\"Wednesday.\",\"Thursday.\",\"Friday.\",\"Saturday.\",\"Sunday.\"]\n",
    "    for i in l:\n",
    "        if(i in days):\n",
    "            week.append(i)\n",
    "        \n",
    "except FileNotFoundError:\n",
    "    print(\"File does not exist\")\n",
    "finally:\n",
    "    f.close()\n",
    "    print(\"File Closed\")\n",
    "print(week)"
   ]
  },
  {
   "cell_type": "code",
   "execution_count": 11,
   "id": "7d4a0a40",
   "metadata": {},
   "outputs": [
    {
     "name": "stdout",
     "output_type": "stream",
     "text": [
      "File Closed\n"
     ]
    },
    {
     "data": {
      "text/plain": [
       "{'UAE': 2, 'India': 3, 'Pakistan': 2, 'Afghanistan': 1, 'Kuwait': 1}"
      ]
     },
     "execution_count": 11,
     "metadata": {},
     "output_type": "execute_result"
    }
   ],
   "source": [
    "try:\n",
    "    f = open(\"u19.txt\",\"r\")\n",
    "    country_count={}\n",
    "    str=f.read()\n",
    "    l=str.split()\n",
    "    country=[\"India\",\"UAE\",\"Pakistan\",\"Afghanistan\",\"Sri Lanka\",\"Kuwait\",\"West Indies\"]\n",
    "    for i in l:\n",
    "        if(i in country):\n",
    "            country_count[i]=l.count(i)\n",
    "            \n",
    "except FileNotFoundError:\n",
    "    print(\"File does not exist\")\n",
    "finally:\n",
    "    f.close()\n",
    "    print(\"File Closed\")\n",
    "country_count"
   ]
  },
  {
   "cell_type": "code",
   "execution_count": null,
   "id": "2abb09aa",
   "metadata": {},
   "outputs": [],
   "source": []
  }
 ],
 "metadata": {
  "kernelspec": {
   "display_name": "Python 3 (ipykernel)",
   "language": "python",
   "name": "python3"
  },
  "language_info": {
   "codemirror_mode": {
    "name": "ipython",
    "version": 3
   },
   "file_extension": ".py",
   "mimetype": "text/x-python",
   "name": "python",
   "nbconvert_exporter": "python",
   "pygments_lexer": "ipython3",
   "version": "3.9.5"
  }
 },
 "nbformat": 4,
 "nbformat_minor": 5
}
