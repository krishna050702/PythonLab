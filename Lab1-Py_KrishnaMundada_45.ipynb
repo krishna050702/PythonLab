{
 "cells": [
  {
   "cell_type": "markdown",
   "metadata": {},
   "source": [
    "## Name: Krishna Mundada\n",
    "## Batch: E3\n",
    "## Roll no:- 45\n",
    "## Topic :- Python Lab 1"
   ]
  },
  {
   "cell_type": "markdown",
   "metadata": {},
   "source": [
    "### Question 1: Write a python program to Ask user to give two float input for length and breadth of a rectangle and print area type casted to int."
   ]
  },
  {
   "cell_type": "code",
   "execution_count": 1,
   "metadata": {},
   "outputs": [
    {
     "name": "stdout",
     "output_type": "stream",
     "text": [
      "Enter the length: 4\n",
      "Enter the breadth: 5\n",
      "Area of rectangle is :  20\n"
     ]
    }
   ],
   "source": [
    "a=float(input(\"Enter the length: \"))\n",
    "b=float(input(\"Enter the breadth: \"))\n",
    "area=int(a*b)\n",
    "print(\"Area of rectangle is : \",area)"
   ]
  },
  {
   "cell_type": "markdown",
   "metadata": {},
   "source": [
    "### Question 2: Write a python program to calculate Manhattan distance between two points A(x1,y1) and B(x2,y2)"
   ]
  },
  {
   "cell_type": "code",
   "execution_count": 4,
   "metadata": {},
   "outputs": [
    {
     "name": "stdout",
     "output_type": "stream",
     "text": [
      "Enter he value of X1 and Y1 : \t4 5 \n",
      "Enter he value of X2 and Y2 : \t6 3\n",
      "Distance between two points using Manhattan formula : 4\n"
     ]
    }
   ],
   "source": [
    "X1,Y1 = map(int,input(\"Enter he value of X1 and Y1 : \\t\").split())\n",
    "X2,Y2 = map(int,input(\"Enter he value of X2 and Y2 : \\t\").split())\n",
    "print(f\"Distance between two points using Manhattan formula : {abs(X1-X2)+abs(Y1-Y2)}\")"
   ]
  },
  {
   "cell_type": "markdown",
   "metadata": {},
   "source": [
    "### Question 3:Write a python program to generate report card of a student. Accept from user: name of student, marks in 3 subject. Generate percentage and add incentive of 0.5% on the percentage and compute final percentage. Print the score card in following format."
   ]
  },
  {
   "cell_type": "code",
   "execution_count": 8,
   "metadata": {},
   "outputs": [
    {
     "name": "stdout",
     "output_type": "stream",
     "text": [
      "Enter student name: Krishna\n",
      "Enter marks in maths: 90\n",
      "Enter marks in english: 91\n",
      "Enter marks in science: 92\n",
      "***********Score Card***************\n",
      "Name:  Krishna\n",
      "***********Score Card***************\n",
      "Maths:  90\n",
      "English:  91\n",
      "Science:  92\n",
      "***********Score Card***************\n",
      "Total out of 300:  273\n",
      "Percentage:  91.0\n",
      "***********Score Card***************\n",
      "Incentives +0.5%\n",
      "Final percentage:  91.5\n",
      "***********Score Card***************\n"
     ]
    }
   ],
   "source": [
    "name=input(\"Enter student name: \")\n",
    "math=int(input(\"Enter marks in maths: \"))\n",
    "eng=int(input(\"Enter marks in english: \"))\n",
    "sci=int(input(\"Enter marks in science: \"))\n",
    "total=math+eng+sci\n",
    "per=((total/300)*100)\n",
    "per_in=((total/300)*100)+0.5\n",
    "\n",
    "print(\"***********Score Card***************\")\n",
    "print(\"Name: \",name)\n",
    "print(\"***********Score Card***************\")\n",
    "print(\"Maths: \",math)\n",
    "print(\"English: \",eng)\n",
    "print(\"Science: \",sci)\n",
    "print(\"***********Score Card***************\")\n",
    "print(\"Total out of 300: \",total)\n",
    "print(\"Percentage: \",per)\n",
    "print(\"***********Score Card***************\")\n",
    "print(\"Incentives +0.5%\")\n",
    "print(\"Final percentage: \",per_in)\n",
    "print(\"***********Score Card***************\")"
   ]
  },
  {
   "cell_type": "code",
   "execution_count": null,
   "metadata": {},
   "outputs": [],
   "source": []
  }
 ],
 "metadata": {
  "kernelspec": {
   "display_name": "Python 3",
   "language": "python",
   "name": "python3"
  },
  "language_info": {
   "codemirror_mode": {
    "name": "ipython",
    "version": 3
   },
   "file_extension": ".py",
   "mimetype": "text/x-python",
   "name": "python",
   "nbconvert_exporter": "python",
   "pygments_lexer": "ipython3",
   "version": "3.7.7"
  }
 },
 "nbformat": 4,
 "nbformat_minor": 5
}
