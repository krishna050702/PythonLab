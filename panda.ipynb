{
 "cells": [
  {
   "cell_type": "code",
   "execution_count": null,
   "metadata": {},
   "outputs": [],
   "source": []
  },
  {
   "cell_type": "markdown",
   "metadata": {},
   "source": [
    "Panda python lab 21-01-2022"
   ]
  },
  {
   "cell_type": "code",
   "execution_count": 1,
   "metadata": {},
   "outputs": [],
   "source": [
    "import pandas as pd"
   ]
  },
  {
   "cell_type": "code",
   "execution_count": 3,
   "metadata": {},
   "outputs": [
    {
     "name": "stdout",
     "output_type": "stream",
     "text": [
      "<class 'pandas.core.series.Series'>\n"
     ]
    }
   ],
   "source": [
    "# creating a numeric pandas series\n",
    "s=pd.Series([2,4,5,6,9])\n",
    "#print(s)\n",
    "print(type(s))"
   ]
  },
  {
   "cell_type": "code",
   "execution_count": 5,
   "metadata": {},
   "outputs": [
    {
     "name": "stdout",
     "output_type": "stream",
     "text": [
      "0    2\n",
      "1    4\n",
      "2    5\n",
      "3    6\n",
      "4    9\n",
      "dtype: int64\n"
     ]
    }
   ],
   "source": [
    "print(s)"
   ]
  },
  {
   "cell_type": "code",
   "execution_count": 6,
   "metadata": {},
   "outputs": [
    {
     "data": {
      "text/plain": [
       "DatetimeIndex(['2017-11-09', '2017-11-10', '2017-11-11', '2017-11-12',\n",
       "               '2017-11-13', '2017-11-14', '2017-11-15', '2017-11-16',\n",
       "               '2017-11-17', '2017-11-18', '2017-11-19', '2017-11-20',\n",
       "               '2017-11-21', '2017-11-22', '2017-11-23', '2017-11-24',\n",
       "               '2017-11-25', '2017-11-26', '2017-11-27', '2017-11-28',\n",
       "               '2017-11-29', '2017-11-30', '2017-12-01', '2017-12-02',\n",
       "               '2017-12-03', '2017-12-04', '2017-12-05', '2017-12-06',\n",
       "               '2017-12-07', '2017-12-08', '2017-12-09', '2017-12-10',\n",
       "               '2017-12-11', '2017-12-12'],\n",
       "              dtype='datetime64[ns]', freq='D')"
      ]
     },
     "execution_count": 6,
     "metadata": {},
     "output_type": "execute_result"
    }
   ],
   "source": [
    "date_series=pd.date_range(start='11-09-2017',end='12-12-2017')\n",
    "date_series"
   ]
  },
  {
   "cell_type": "code",
   "execution_count": 8,
   "metadata": {},
   "outputs": [
    {
     "name": "stdout",
     "output_type": "stream",
     "text": [
      "1     1\n",
      "2     4\n",
      "3     9\n",
      "4    16\n",
      "5    25\n",
      "dtype: int32\n"
     ]
    }
   ],
   "source": [
    "n=int(input())\n",
    "import numpy as np\n",
    "import pandas as pd\n",
    "x=pd.Series(np.array(range(1,n+1))**2,index=range(1,n+1))\n",
    "\n",
    "print(x)"
   ]
  },
  {
   "cell_type": "code",
   "execution_count": 12,
   "metadata": {},
   "outputs": [],
   "source": [
    "country =['united states', 'Australia', 'Japan', \"India\", \"Russia\", \"Porocco\", 'Egypt']\n",
    "symbol= [ 'US', 'ALU','JP', \"IND\",\"RUS\", \"HOR\", \"EG\"]\n",
    "dic_world ={\"Country\": country, \"symbol\" : symbol}"
   ]
  },
  {
   "cell_type": "code",
   "execution_count": 13,
   "metadata": {},
   "outputs": [
    {
     "name": "stdout",
     "output_type": "stream",
     "text": [
      "{'Country': ['united states', 'Australia', 'Japan', 'India', 'Russia', 'Porocco', 'Egypt'], 'symbol': ['US', 'ALU', 'JP', 'IND', 'RUS', 'HOR', 'EG']}\n"
     ]
    }
   ],
   "source": [
    "print(dic_world)\n"
   ]
  },
  {
   "cell_type": "code",
   "execution_count": 14,
   "metadata": {},
   "outputs": [],
   "source": [
    "data=pd.DataFrame(dic_world)"
   ]
  },
  {
   "cell_type": "code",
   "execution_count": 15,
   "metadata": {},
   "outputs": [
    {
     "name": "stdout",
     "output_type": "stream",
     "text": [
      "<class 'pandas.core.frame.DataFrame'>\n"
     ]
    }
   ],
   "source": [
    "print(type(data))"
   ]
  },
  {
   "cell_type": "code",
   "execution_count": 16,
   "metadata": {},
   "outputs": [
    {
     "name": "stdout",
     "output_type": "stream",
     "text": [
      "         Country symbol\n",
      "0  united states     US\n",
      "1      Australia    ALU\n",
      "2          Japan     JP\n",
      "3          India    IND\n",
      "4         Russia    RUS\n",
      "5        Porocco    HOR\n",
      "6          Egypt     EG\n"
     ]
    }
   ],
   "source": [
    "print(data)"
   ]
  },
  {
   "cell_type": "code",
   "execution_count": 17,
   "metadata": {},
   "outputs": [
    {
     "name": "stdout",
     "output_type": "stream",
     "text": [
      "0    united states\n",
      "1        Australia\n",
      "2            Japan\n",
      "3            India\n",
      "4           Russia\n",
      "5          Porocco\n",
      "6            Egypt\n",
      "Name: Country, dtype: object\n"
     ]
    }
   ],
   "source": [
    "print(data['Country'])"
   ]
  },
  {
   "cell_type": "code",
   "execution_count": 18,
   "metadata": {},
   "outputs": [
    {
     "name": "stdout",
     "output_type": "stream",
     "text": [
      "0     US\n",
      "1    ALU\n",
      "2     JP\n",
      "3    IND\n",
      "4    RUS\n",
      "5    HOR\n",
      "6     EG\n",
      "Name: symbol, dtype: object\n"
     ]
    }
   ],
   "source": [
    "print(data['symbol'])"
   ]
  },
  {
   "cell_type": "code",
   "execution_count": 19,
   "metadata": {},
   "outputs": [
    {
     "name": "stdout",
     "output_type": "stream",
     "text": [
      "0     US\n",
      "1    ALU\n",
      "2     JP\n",
      "3    IND\n",
      "4    RUS\n",
      "5    HOR\n",
      "6     EG\n",
      "Name: symbol, dtype: object\n"
     ]
    }
   ],
   "source": [
    "print(data.symbol)"
   ]
  },
  {
   "cell_type": "code",
   "execution_count": null,
   "metadata": {},
   "outputs": [],
   "source": []
  }
 ],
 "metadata": {
  "interpreter": {
   "hash": "06cb67651ce969e244f20f184e33f4ddb1106793adfe07cf7ddc131c95c4012f"
  },
  "kernelspec": {
   "display_name": "Python 3.9.5 64-bit",
   "language": "python",
   "name": "python3"
  },
  "language_info": {
   "codemirror_mode": {
    "name": "ipython",
    "version": 3
   },
   "file_extension": ".py",
   "mimetype": "text/x-python",
   "name": "python",
   "nbconvert_exporter": "python",
   "pygments_lexer": "ipython3",
   "version": "3.9.5"
  },
  "orig_nbformat": 4
 },
 "nbformat": 4,
 "nbformat_minor": 2
}
